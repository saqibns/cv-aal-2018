{
 "cells": [
  {
   "cell_type": "code",
   "execution_count": null,
   "metadata": {},
   "outputs": [],
   "source": [
    "from sklearn.model_selection import train_test_split\n",
    "import os\n",
    "import shutil"
   ]
  },
  {
   "cell_type": "code",
   "execution_count": null,
   "metadata": {},
   "outputs": [],
   "source": [
    "def split_and_move(basedir, destination, ratio=0.1):\n",
    "    files = list()\n",
    "    labels = list()\n",
    "    classes = os.listdir(basedir)\n",
    "    for klass in classes:\n",
    "        dest = os.path.join(destination, klass)\n",
    "        if not os.path.exists(dest):\n",
    "            os.makedirs(dest)\n",
    "        train_path = os.path.join(basedir, klass)\n",
    "        for fname in os.listdir(train_path):\n",
    "            fl_path = os.path.join(train_path, fname)\n",
    "            files.append(fl_path)\n",
    "            labels.append(klass)\n",
    "    x_train, x_val, y_train, y_val = train_test_split(files, labels, test_size=0.1, random_state=42, stratify=labels)\n",
    "    for i, filename in enumerate(x_val):\n",
    "        print('moving {} to {}'.format(filename, os.path.join(destination, y_val[i]))) \n",
    "        shutil.move(filename, os.path.join(destination, y_val[i]))"
   ]
  },
  {
   "cell_type": "code",
   "execution_count": null,
   "metadata": {},
   "outputs": [],
   "source": [
    "split_and_move('Data/Heatmaps/Train-Normed-Float-Gauss/TrainGaussianNormalizedCenter/', 'Data/Heatmaps/Train-Normed-Float-Gauss/TrainGaussianNormalizedCenter-Val/')"
   ]
  },
  {
   "cell_type": "code",
   "execution_count": null,
   "metadata": {},
   "outputs": [],
   "source": []
  }
 ],
 "metadata": {
  "kernelspec": {
   "display_name": "Python 3",
   "language": "python",
   "name": "python3"
  },
  "language_info": {
   "codemirror_mode": {
    "name": "ipython",
    "version": 3
   },
   "file_extension": ".py",
   "mimetype": "text/x-python",
   "name": "python",
   "nbconvert_exporter": "python",
   "pygments_lexer": "ipython3",
   "version": "3.6.3"
  }
 },
 "nbformat": 4,
 "nbformat_minor": 2
}
