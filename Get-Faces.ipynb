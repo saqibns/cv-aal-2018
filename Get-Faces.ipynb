{
 "cells": [
  {
   "cell_type": "code",
   "execution_count": null,
   "metadata": {},
   "outputs": [],
   "source": [
    "import sys\n",
    "import pandas as pd\n",
    "import dlib\n",
    "from skimage import io\n",
    "import os\n",
    "from tqdm import tqdm\n",
    "from PIL import ImageFile\n",
    "import pickle\n",
    "ImageFile.LOAD_TRUNCATED_IMAGES = True"
   ]
  },
  {
   "cell_type": "code",
   "execution_count": null,
   "metadata": {},
   "outputs": [],
   "source": [
    "detector = dlib.get_frontal_face_detector()"
   ]
  },
  {
   "cell_type": "code",
   "execution_count": null,
   "metadata": {},
   "outputs": [],
   "source": [
    "path = 'Data/pics/pics'"
   ]
  },
  {
   "cell_type": "code",
   "execution_count": null,
   "metadata": {},
   "outputs": [],
   "source": [
    "all_files = []\n",
    "only_file_names = []\n",
    "for file in os.listdir(path):\n",
    "#     if file.endswith(\".jpg\"):\n",
    "    all_files.append(os.path.join(path, file))\n",
    "    only_file_names.append(file)"
   ]
  },
  {
   "cell_type": "code",
   "execution_count": null,
   "metadata": {},
   "outputs": [],
   "source": [
    "counter = 0\n",
    "destination_path = 'Data/pics/faces/'\n",
    "\n",
    "parent_file = []\n",
    "face_files = []\n",
    "coordinates = []\n",
    "\n",
    "for i in tqdm(range(0,len(all_files))):\n",
    "    img = io.imread(all_files[i])\n",
    "    dets = detector(img, 1)\n",
    "    for j in range(0,len(dets)):\n",
    "        object_ = dets[j]\n",
    "        coord_ = [object_.top(),object_.bottom(),object_.left(),object_.right()]\n",
    "        img_ = img[object_.top():object_.bottom(), object_.left():object_.right()]\n",
    "\n",
    "        if ((img_.shape[1]!=0) and (img_.shape[0]!=0) and (img_.shape[2]!=0)):\n",
    "            f_ = 'image_'+str(i)+'_'+str(j)+'.jpg'\n",
    "            dest_path = destination_path + f_\n",
    "            io.imsave(dest_path,img_)\n",
    "\n",
    "            coordinates.append(coord_)\n",
    "            face_files.append(f_)\n",
    "            parent_file.append(only_file_names[i])\n"
   ]
  },
  {
   "cell_type": "code",
   "execution_count": null,
   "metadata": {},
   "outputs": [],
   "source": [
    "f_ = open('paper_data.obj','wb')\n",
    "pickle.dump([parent_file,face_files,coordinates],f_)\n",
    "f_.close()"
   ]
  }
 ],
 "metadata": {
  "kernelspec": {
   "display_name": "Python 2",
   "language": "python",
   "name": "python2"
  },
  "language_info": {
   "codemirror_mode": {
    "name": "ipython",
    "version": 2
   },
   "file_extension": ".py",
   "mimetype": "text/x-python",
   "name": "python",
   "nbconvert_exporter": "python",
   "pygments_lexer": "ipython2",
   "version": "2.7.12"
  }
 },
 "nbformat": 4,
 "nbformat_minor": 1
}
