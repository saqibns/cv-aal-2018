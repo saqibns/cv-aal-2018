{
 "cells": [
  {
   "cell_type": "code",
   "execution_count": null,
   "metadata": {},
   "outputs": [],
   "source": [
    "import pandas as pd\n",
    "import numpy as np\n",
    "import pickle\n",
    "from sklearn.model_selection import train_test_split\n",
    "from sklearn.ensemble import RandomForestClassifier\n",
    "from sklearn.metrics import confusion_matrix\n",
    "import numpy as np"
   ]
  },
  {
   "cell_type": "code",
   "execution_count": null,
   "metadata": {},
   "outputs": [],
   "source": [
    "data_neutral = pickle.load(open('Data/validation_data/validate_neutral_predictions.pkl'))\n",
    "data_negative = pickle.load(open('Data/validation_data/validate_negative_predictions.pkl'))\n",
    "data_positive = pickle.load(open('Data/validation_data/validate_positive_predictions.pkl'))"
   ]
  },
  {
   "cell_type": "code",
   "execution_count": null,
   "metadata": {},
   "outputs": [],
   "source": [
    "details_neutral = pickle.load(open('Data/validation_data/neutral_details_validation_data.obj'))\n",
    "\n",
    "details_negative = pickle.load(open('Data/validation_data/negative_details_validation_data.obj'))\n",
    "\n",
    "details_positive = pickle.load(open('Data/validation_data/positive_details_validation_data.obj'))"
   ]
  },
  {
   "cell_type": "code",
   "execution_count": null,
   "metadata": {},
   "outputs": [],
   "source": [
    "details_neutral = pd.DataFrame(details_neutral).transpose()\n",
    "details_neutral.columns = ['imageID','faceID','coordinates']\n",
    "\n",
    "details_negative = pd.DataFrame(details_negative).transpose()\n",
    "details_negative.columns = ['imageID','faceID','coordinates']\n",
    "\n",
    "details_positive = pd.DataFrame(details_positive).transpose()\n",
    "details_positive.columns = ['imageID','faceID','coordinates']"
   ]
  },
  {
   "cell_type": "code",
   "execution_count": null,
   "metadata": {},
   "outputs": [],
   "source": []
  },
  {
   "cell_type": "code",
   "execution_count": null,
   "metadata": {},
   "outputs": [],
   "source": [
    "def func_collate(data):\n",
    "    data = [x[0] for x in data]\n",
    "    data = list(pd.DataFrame(data).mean())\n",
    "    return data"
   ]
  },
  {
   "cell_type": "code",
   "execution_count": null,
   "metadata": {},
   "outputs": [],
   "source": [
    "data_pos = [func_collate(x) for x in data_positive]\n",
    "data_neg = [func_collate(x) for x in data_negative]\n",
    "data_neut = [func_collate(x) for x in data_neutral]"
   ]
  },
  {
   "cell_type": "code",
   "execution_count": null,
   "metadata": {},
   "outputs": [],
   "source": [
    "data_neut = pd.DataFrame(data_neut, columns = ['Angry' , 'Disgust' , 'Fear' , 'Happy'  , 'Neutral' ,  'Sad' , 'Surprise'])\n",
    "data_pos = pd.DataFrame(data_pos, columns = ['Angry' , 'Disgust' , 'Fear' , 'Happy'  , 'Neutral' ,  'Sad' , 'Surprise'])\n",
    "data_neg = pd.DataFrame(data_neg, columns = ['Angry' , 'Disgust' , 'Fear' , 'Happy'  , 'Neutral' ,  'Sad' , 'Surprise'])"
   ]
  },
  {
   "cell_type": "code",
   "execution_count": null,
   "metadata": {},
   "outputs": [],
   "source": [
    "final_pos = pd.concat([details_positive, data_pos],axis=1)\n",
    "final_neg = pd.concat([details_negative, data_neg],axis=1)\n",
    "final_neut = pd.concat([details_neutral, data_neut],axis=1)"
   ]
  },
  {
   "cell_type": "code",
   "execution_count": null,
   "metadata": {},
   "outputs": [],
   "source": [
    "feat_neut = final_neut.groupby(['imageID']).mean()\n",
    "feat_neg = final_neg.groupby(['imageID']).mean()\n",
    "feat_pos = final_pos.groupby(['imageID']).mean()"
   ]
  },
  {
   "cell_type": "code",
   "execution_count": null,
   "metadata": {},
   "outputs": [],
   "source": [
    "feat_pos.index.name = None\n",
    "feat_neg.index.name = None\n",
    "feat_neut.index.name = None"
   ]
  },
  {
   "cell_type": "code",
   "execution_count": null,
   "metadata": {},
   "outputs": [],
   "source": [
    "feat_pos['label'] = 'positive'\n",
    "feat_neg['label'] = 'negative'\n",
    "feat_neut['label'] = 'neutral'"
   ]
  },
  {
   "cell_type": "code",
   "execution_count": null,
   "metadata": {},
   "outputs": [],
   "source": [
    "all_feat = pd.concat([feat_neg, feat_pos, feat_neut])"
   ]
  },
  {
   "cell_type": "code",
   "execution_count": null,
   "metadata": {},
   "outputs": [],
   "source": [
    "ind_list = all_feat.index"
   ]
  },
  {
   "cell_type": "code",
   "execution_count": null,
   "metadata": {},
   "outputs": [],
   "source": [
    "result_list = []\n",
    "acc_count = []\n",
    "for each_ind in ind_list:\n",
    "    tmp_series = all_feat.loc[each_ind]\n",
    "    predict_label = tmp_series[['Angry' , 'Disgust' , 'Fear' , 'Happy'  , 'Neutral' ,  'Sad' , 'Surprise']].argmax()\n",
    "    actual_label = tmp_series['label']\n",
    "    result_list.append([each_ind, actual_label, predict_label])\n",
    "    if(actual_label=='positive'):\n",
    "        acc_count.append(predict_label in positive_list)\n",
    "    if(actual_label == 'negative'):\n",
    "        acc_count.append(predict_label in negative_list)\n",
    "    if(actual_label == 'neutral'):\n",
    "        acc_count.append(predict_label in neutral_list)"
   ]
  },
  {
   "cell_type": "code",
   "execution_count": null,
   "metadata": {},
   "outputs": [],
   "source": [
    "pd.DataFrame(result_list,columns = ['Image_label','Actual','Predicted']).to_csv('Baseline.csv')"
   ]
  },
  {
   "cell_type": "code",
   "execution_count": null,
   "metadata": {},
   "outputs": [],
   "source": [
    "results = all_feat.loc[ind_list[0]][['Angry' , 'Disgust' , 'Fear' , 'Happy'  , 'Neutral' ,  'Sad' , 'Surprise']]"
   ]
  },
  {
   "cell_type": "code",
   "execution_count": null,
   "metadata": {},
   "outputs": [],
   "source": [
    "negative_list = ['Angry' , 'Disgust' , 'Fear', 'Sad', 'Surprise']\n",
    "\n",
    "positive_list = ['Happy']\n",
    "\n",
    "neutral_list = ['Neutral']"
   ]
  },
  {
   "cell_type": "code",
   "execution_count": null,
   "metadata": {},
   "outputs": [],
   "source": [
    "predict_label in negative_list"
   ]
  },
  {
   "cell_type": "code",
   "execution_count": null,
   "metadata": {},
   "outputs": [],
   "source": [
    "sum(acc_count)*100.00/1982"
   ]
  },
  {
   "cell_type": "code",
   "execution_count": null,
   "metadata": {},
   "outputs": [],
   "source": []
  }
 ],
 "metadata": {
  "kernelspec": {
   "display_name": "Python 2",
   "language": "python",
   "name": "python2"
  },
  "language_info": {
   "codemirror_mode": {
    "name": "ipython",
    "version": 2
   },
   "file_extension": ".py",
   "mimetype": "text/x-python",
   "name": "python",
   "nbconvert_exporter": "python",
   "pygments_lexer": "ipython2",
   "version": "2.7.12"
  }
 },
 "nbformat": 4,
 "nbformat_minor": 2
}
